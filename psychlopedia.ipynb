{
 "cells": [
  {
   "cell_type": "code",
   "execution_count": 1,
   "metadata": {},
   "outputs": [],
   "source": [
    "import pandas as pd\n",
    "from collections import defaultdict\n",
    "import math\n",
    "import re\n",
    "from nltk import word_tokenize, pos_tag\n",
    "from nltk.corpus import stopwords\n",
    "import numpy as np\n",
    "from str_helper import *\n",
    "import pickle "
   ]
  },
  {
   "cell_type": "markdown",
   "metadata": {},
   "source": [
    "# Populate definitions dict"
   ]
  },
  {
   "cell_type": "markdown",
   "metadata": {},
   "source": [
    "apa = pd.read_csv('ontologies\\APAONTO.csv').fillna('') #Preferred Label, Definitions, Alt name\n",
    "mf = pd.read_csv('ontologies\\MF.csv').fillna('')\n",
    "mfo = pd.read_csv('ontologies\\MFOMD.csv').fillna('')\n",
    "sui = pd.read_csv('ontologies\\suicideo.csv').fillna('')\n",
    "\n",
    "\n",
    "thes=defaultdict(dict)\n",
    "\n",
    "def add_defn(w, dfn, onto):\n",
    "    if w=='':\n",
    "        pass\n",
    "    d=thes[w]\n",
    "    d[onto]=re.sub(r'\\[wikipedia: http\\S+\\]', '', dfn.replace('\\n', ' '), flags=re.IGNORECASE)\n",
    "    thes[w] = d\n",
    "\n",
    "\n",
    "for row in apa.iterrows():\n",
    "    word = row[1]['Preferred Label']\n",
    "    defn = row[1]['Definitions']\n",
    "    if defn=='':\n",
    "        continue\n",
    "    syn = [word]+row[1]['Alt name'].split('|')\n",
    "    for w in syn:\n",
    "        add_defn(w, defn, 'apa')    \n",
    "        \n",
    "for row in mf.iterrows():\n",
    "    word = row[1]['Preferred Label']\n",
    "    defn = row[1]['Definitions']\n",
    "    if defn=='':\n",
    "        continue\n",
    "    add_defn(word, defn, 'mf')\n",
    "    \n",
    "for row in mfo.iterrows():\n",
    "    word = row[1]['Preferred Label']\n",
    "    defn = row[1]['Definitions']\n",
    "    if defn=='':\n",
    "        continue\n",
    "    syn = [word]+row[1]['Synonyms'].split('|')\n",
    "    for w in syn:\n",
    "        add_defn(w, defn, 'mfo')\n",
    "\n",
    "for row in sui.iterrows():\n",
    "    word = row[1]['Preferred Label']\n",
    "    defn = row[1]['Definitions']\n",
    "    if defn=='':\n",
    "        continue\n",
    "    syn = [word]+row[1]['alternative term'].split('\\n')\n",
    "    for w in syn:\n",
    "        add_defn(w, defn, 'sui')\n",
    "        \n",
    "\n",
    "with open('psychThesaurusDict.pkl','wb') as f:\n",
    "        pickle.dump(thes, f)      "
   ]
  },
  {
   "cell_type": "markdown",
   "metadata": {},
   "source": [
    "## Vocab for hyperspace training - psychlopedia"
   ]
  },
  {
   "cell_type": "code",
   "execution_count": 2,
   "metadata": {
    "scrolled": false
   },
   "outputs": [
    {
     "name": "stdout",
     "output_type": "stream",
     "text": [
      "ADHD ['Attention', 'deficit', 'hyperactivity', 'disorder']\n",
      "(ADHD) Attention deficit hyperactivity disorder\n",
      "ADD ['Attention', 'deficit', 'disorder\"']\n",
      "(ADD) Attention deficit disorder\"\n",
      "NHS ['National', 'Health', 'Service']\n",
      "(NHS) National Health Service\n",
      "PER ['so', 'named', 'Period']\n",
      "TIM ['Period', 'PER', 'Timeless']\n",
      "CRY ['Timeless', 'TIM', 'Cryptochrome']\n",
      "PER ['so', 'named', 'Period']\n",
      "TIM ['Period', 'PER', 'Timeless']\n",
      "CRY ['Timeless', 'TIM', 'Cryptochrome']\n",
      "Pavlovian ['classical']\n",
      "LEARNING ['the', 'aid', 'of', 'external', 'cues', 'Compare', 'SERIAL', 'ANTICIPATION']\n",
      "LEARNING ['the', 'aid', 'of', 'external', 'cues', 'Compare', 'SERIAL', 'ANTICIPATION']\n",
      "LEARNING ['to', 'a', 'new', 'context', 'or', 'setting', 'Compare', 'TRANSFER']\n",
      "TESTING ['established', 'scales', 'or', 'standards', 'Consider', 'also', 'SCORING']\n",
      "ATP ['to', 'form', 'triphosphates']\n",
      "ATP ['to', 'form', 'triphosphates']\n",
      "EVENTS ['change', 'due', 'to', 'illness', 'Compare', 'EXPERIENCES']\n",
      "EVENTS ['change', 'due', 'to', 'illness', 'Compare', 'EXPERIENCES']\n",
      "EMOTION ['think', 'and', 'thoughts', 'of', 'suicide', 'Use', 'DEPRESSION']\n",
      "EMOTION ['think', 'and', 'thoughts', 'of', 'suicide', 'Use', 'DEPRESSION']\n",
      "EMOTION ['think', 'and', 'thoughts', 'of', 'suicide', 'Use', 'DEPRESSION']\n",
      "EMOTION ['think', 'and', 'thoughts', 'of', 'suicide', 'Use', 'DEPRESSION']\n",
      "EMOTION ['think', 'and', 'thoughts', 'of', 'suicide', 'Use', 'DEPRESSION']\n",
      "EMOTION ['think', 'and', 'thoughts', 'of', 'suicide', 'Use', 'DEPRESSION']\n",
      "EMOTION ['think', 'and', 'thoughts', 'of', 'suicide', 'Use', 'DEPRESSION']\n",
      "EMOTION ['think', 'and', 'thoughts', 'of', 'suicide', 'Use', 'DEPRESSION']\n",
      "CONCEPTS ['and', 'the', 'operations', 'performed', 'on', 'them', 'Compare', 'MATHEMATICS']\n",
      "CONCEPTS ['and', 'the', 'operations', 'performed', 'on', 'them', 'Compare', 'MATHEMATICS']\n",
      "LEARNING ['Use', 'only', 'for', 'animal', 'populations', 'Consider', 'also', 'IMITATION']\n",
      "DRUG ['drugs', 'use', 'SIDE', 'EFFECTS']\n",
      "(DRUG) drugs use\n",
      "PTSD ['Posttraumatic', 'stress', 'disorder']\n",
      "(PTSD) Posttraumatic stress disorder\n",
      "DISORDERS ['physical', 'psychological', 'social', 'or', 'situational', 'factors', 'Consider', 'also', 'SUSCEPTIBILITY']\n",
      "LEARNING ['conditioned', 'response', 'was', 'never', 'specifically', 'conditioned', 'Compare', 'GENERALIZATION']\n",
      "LEARNING ['conditioned', 'response', 'was', 'never', 'specifically', 'conditioned', 'Compare', 'GENERALIZATION']\n",
      "EDUCATIONAL ['in', 'reference', 'to', 'some', 'established', 'standard', 'or', 'other', 'criterion', 'Compare', 'GRADING']\n",
      "DRUG ['therapy', 'use', 'SIDE', 'EFFECTS']\n",
      "DRUG ['therapy', 'use', 'SIDE', 'EFFECTS']\n",
      "LEARNING ['property', 'Also', 'known', 'as', 'primary', 'generalization', 'Compare', 'GENERALIZATION']\n",
      "LEARNING ['property', 'Also', 'known', 'as', 'primary', 'generalization', 'Compare', 'GENERALIZATION']\n",
      "RT ['reaction', 'time']\n",
      "(RT) reaction time\n",
      "Hz ['second']\n",
      "TESTING ['describe', 'test', 'performance', 'of', 'individuals', 'Compare', 'SCORING']\n",
      "EDUCATIONAL ['to', 'describe', 'test', 'performance', 'of', 'individuals', 'Compare', 'SCORING', 'TESTING', 'and', 'GRADING']\n",
      "TESTING ['describe', 'test', 'performance', 'of', 'individuals', 'Compare', 'SCORING']\n",
      "EDUCATIONAL ['to', 'describe', 'test', 'performance', 'of', 'individuals', 'Compare', 'SCORING', 'TESTING', 'and', 'GRADING']\n",
      "BODY ['in', 'temperature', 'Compare', 'THERMOREGULATION']\n",
      "BODY ['in', 'temperature', 'Compare', 'THERMOREGULATION']\n",
      "PERCEPTION ['sensory', 'receptor', 'or', 'other', 'neuron', 'will', 'respond', 'Compare', 'SIGNAL', 'DETECTION']\n",
      "PERCEPTION ['sensory', 'receptor', 'or', 'other', 'neuron', 'will', 'respond', 'Compare', 'SIGNAL', 'DETECTION']\n",
      "PERCEPTION ['sensory', 'receptor', 'or', 'other', 'neuron', 'will', 'respond', 'Compare', 'SIGNAL', 'DETECTION']\n",
      "LEARNING ['the', 'prior', 'and', 'current', 'learning', 'situations', 'Compare', 'GENERALIZATION']\n",
      "ASIC ['acid', 'sensing', 'ion', 'channel']\n",
      "(ASIC) acid sensing ion channel\n",
      "ASIC ['acid', 'sensing', 'ion', 'channel']\n",
      "(ASIC) acid sensing ion channel\n",
      "ASIC ['acid', 'sensing', 'ion', 'channel']\n",
      "(ASIC) acid sensing ion channel\n",
      "ASIC ['acid', 'sensing', 'ion', 'channel']\n",
      "(ASIC) acid sensing ion channel\n",
      "ASIC ['acid', 'sensing', 'ion', 'channel']\n",
      "(ASIC) acid sensing ion channel\n",
      "ASIC ['acid', 'sensing', 'ion', 'channel']\n",
      "(ASIC) acid sensing ion channel\n",
      "ADHD ['Attention', 'deficit', 'hyperactivity', 'disorder']\n",
      "(ADHD) Attention deficit hyperactivity disorder\n",
      "ADD ['Attention', 'deficit', 'disorder\"']\n",
      "(ADD) Attention deficit disorder\"\n",
      "ADHD ['Attention', 'deficit', 'hyperactivity', 'disorder']\n",
      "(ADHD) Attention deficit hyperactivity disorder\n",
      "ADD ['Attention', 'deficit', 'disorder\"']\n",
      "(ADD) Attention deficit disorder\"\n",
      "ADHD ['Attention', 'deficit', 'hyperactivity', 'disorder']\n",
      "(ADHD) Attention deficit hyperactivity disorder\n",
      "ADD ['Attention', 'deficit', 'disorder\"']\n",
      "(ADD) Attention deficit disorder\"\n",
      "PMS ['Premenstrual', 'syndrome']\n",
      "(PMS) Premenstrual syndrome\n",
      "SAD ['seasonal', 'affective', 'disorder']\n",
      "(SAD) seasonal affective disorder\n",
      "SAD ['seasonal', 'affective', 'disorder']\n",
      "(SAD) seasonal affective disorder\n",
      "REM ['rapid', 'eye', 'movement']\n",
      "(REM) rapid eye movement\n",
      "PTSD ['Post', 'traumatic', 'stress', 'disorder']\n",
      "(PTSD) Post traumatic stress disorder\n",
      "PTSD ['Post', 'traumatic', 'stress', 'disorder']\n",
      "(PTSD) Post traumatic stress disorder\n",
      "PCP ['use', 'of', 'phencyclidine']\n",
      "PCP ['use', 'of', 'phencyclidine']\n",
      "PCP ['use', 'of', 'phencyclidine']\n",
      "FMA ['An', 'anatomical', 'structure']\n",
      "Trukese ['Chuukese']\n",
      "MSD ['mean', 'squared', 'deviation']\n",
      "(MSD) mean squared deviation\n",
      "DA ['the', 'Army']\n",
      "DA ['the', 'Army']\n",
      "WCST ['Wisconsin', 'Card', 'Sorting', 'Test']\n",
      "(WCST) Wisconsin Card Sorting Test\n",
      "WCST ['Wisconsin', 'Card', 'Sorting', 'Test']\n",
      "(WCST) Wisconsin Card Sorting Test\n",
      "WCST ['Wisconsin', 'Card', 'Sorting', 'Test']\n",
      "(WCST) Wisconsin Card Sorting Test\n",
      "OSD ['Secretary', 'of', 'Defense']\n",
      "(OSD) of Defense\n",
      "OSD ['Secretary', 'of', 'Defense']\n",
      "(OSD) of Defense\n",
      "GMH ['Global', 'Mental', 'Health']\n",
      "(GMH) Global Mental Health\n",
      "GMH ['Global', 'Mental', 'Health']\n",
      "(GMH) Global Mental Health\n",
      "DAF ['the', 'Air', 'Force']\n",
      "DAF ['the', 'Air', 'Force']\n"
     ]
    }
   ],
   "source": [
    "window_size = 10\n",
    "\n",
    "\n",
    "with open('psychThesaurusDict.pkl','rb') as f:\n",
    "        thes = pickle.load(f)      \n",
    "\n",
    "def get_studded_defn(w, dfn):\n",
    "    \n",
    "    w=clean_sent(w.lower())\n",
    "    stud=[w]\n",
    "    dfn=clean_sent(dfn)\n",
    "    tok = word_tokenize(dfn)\n",
    "    for i in range(0, len(tok), window_size):\n",
    "        stud += tok[i:i+window_size]+[w]\n",
    "    return ' '.join(stud)\n",
    "\n",
    "def dict_iter():\n",
    "    for w,d in thes.items():\n",
    "        dfns = d.values()\n",
    "        for dd in dfns:\n",
    "            if len(w)<2:\n",
    "                continue\n",
    "            yield get_studded_defn(w,dd)\n",
    "\n",
    "gen=dict_iter()\n",
    "with open('psychlopedia_train_verbose.txt','w') as f:\n",
    "    for l in gen:\n",
    "        f.write(l+'\\n')\n",
    "        \n"
   ]
  },
  {
   "cell_type": "code",
   "execution_count": 3,
   "metadata": {},
   "outputs": [
    {
     "data": {
      "text/plain": [
       "'MGI Attention'"
      ]
     },
     "execution_count": 3,
     "metadata": {},
     "output_type": "execute_result"
    }
   ],
   "source": [
    "def split_words(abst):\n",
    "    return re.sub(r'([a-zA-Z])[^a-zA-Z]+([a-zA-Z])', r'\\1 \\2', abst)\n",
    "\n",
    "split_words('MGI.|Attention')"
   ]
  }
 ],
 "metadata": {
  "kernelspec": {
   "display_name": "Python 3",
   "language": "python",
   "name": "python3"
  },
  "language_info": {
   "codemirror_mode": {
    "name": "ipython",
    "version": 3
   },
   "file_extension": ".py",
   "mimetype": "text/x-python",
   "name": "python",
   "nbconvert_exporter": "python",
   "pygments_lexer": "ipython3",
   "version": "3.7.4"
  },
  "varInspector": {
   "cols": {
    "lenName": 16,
    "lenType": 16,
    "lenVar": 40
   },
   "kernels_config": {
    "python": {
     "delete_cmd_postfix": "",
     "delete_cmd_prefix": "del ",
     "library": "var_list.py",
     "varRefreshCmd": "print(var_dic_list())"
    },
    "r": {
     "delete_cmd_postfix": ") ",
     "delete_cmd_prefix": "rm(",
     "library": "var_list.r",
     "varRefreshCmd": "cat(var_dic_list()) "
    }
   },
   "position": {
    "height": "143.5px",
    "left": "997px",
    "right": "20px",
    "top": "122px",
    "width": "350px"
   },
   "types_to_exclude": [
    "module",
    "function",
    "builtin_function_or_method",
    "instance",
    "_Feature"
   ],
   "window_display": false
  }
 },
 "nbformat": 4,
 "nbformat_minor": 2
}
