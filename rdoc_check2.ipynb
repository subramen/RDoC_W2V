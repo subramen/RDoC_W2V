{
 "cells": [
  {
   "cell_type": "markdown",
   "metadata": {},
   "source": [
    "# English-Vectorspace translators"
   ]
  },
  {
   "cell_type": "code",
   "execution_count": 1,
   "metadata": {},
   "outputs": [],
   "source": [
    "import str_helper as sh"
   ]
  },
  {
   "cell_type": "code",
   "execution_count": null,
   "metadata": {},
   "outputs": [],
   "source": [
    "def unweighted_avg(doclist, w2v):\n",
    "    vecs = []\n",
    "    for doc in doclist:\n",
    "        tokens = list(sh.tokenize(doc))\n",
    "        docvec=[]\n",
    "        \n",
    "        for t in tokens:\n",
    "            mul = 1\n",
    "            if t.startswith('non-'):\n",
    "                t = t.replace('non-','')\n",
    "                mul = -1\n",
    "            try:\n",
    "                wv = w2v[t]\n",
    "                docvec.append(wv)\n",
    "            except KeyError:\n",
    "                continue        \n",
    "        vecs.append(np.array(docvec.sum(0))/len(tokens))\n",
    "    return vecs\n",
    "\n",
    "\n",
    "\n",
    "def weighted_avg(doclist, w2v):\n",
    "    tfidf = sh.tfidfDist(doclist)\n",
    "    vecs = []\n",
    "    \n",
    "    for c,doc in enumerate(doclist):\n",
    "        tf = dict(tfidf[c])\n",
    "#         denom = 0\n",
    "        tokens = set(sh.tokenize(doc))\n",
    "        docvec=[]\n",
    "        \n",
    "        for t in tokens:\n",
    "            mul = 1\n",
    "            if t.startswith('non-'):\n",
    "                t = t.replace('non-','')\n",
    "                mul = -1\n",
    "            try:\n",
    "                wv = w2v[t]\n",
    "                wt = tf[t]\n",
    "#                 denom+=t\n",
    "                docvec.append(wv*wt)\n",
    "            except KeyError:\n",
    "                continue        \n",
    "        vecs.append(np.array(docvec.sum(0)))\n",
    "    return vecs\n",
    "            \n",
    "## HYPERPLANE\n",
    "\n",
    "## DOC2VEC    "
   ]
  }
 ],
 "metadata": {
  "kernelspec": {
   "display_name": "Python 3",
   "language": "python",
   "name": "python3"
  },
  "language_info": {
   "codemirror_mode": {
    "name": "ipython",
    "version": 3
   },
   "file_extension": ".py",
   "mimetype": "text/x-python",
   "name": "python",
   "nbconvert_exporter": "python",
   "pygments_lexer": "ipython3",
   "version": "3.7.4"
  },
  "varInspector": {
   "cols": {
    "lenName": 16,
    "lenType": 16,
    "lenVar": 40
   },
   "kernels_config": {
    "python": {
     "delete_cmd_postfix": "",
     "delete_cmd_prefix": "del ",
     "library": "var_list.py",
     "varRefreshCmd": "print(var_dic_list())"
    },
    "r": {
     "delete_cmd_postfix": ") ",
     "delete_cmd_prefix": "rm(",
     "library": "var_list.r",
     "varRefreshCmd": "cat(var_dic_list()) "
    }
   },
   "types_to_exclude": [
    "module",
    "function",
    "builtin_function_or_method",
    "instance",
    "_Feature"
   ],
   "window_display": false
  }
 },
 "nbformat": 4,
 "nbformat_minor": 2
}
